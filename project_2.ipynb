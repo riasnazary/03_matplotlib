{
 "cells": [
  {
   "cell_type": "markdown",
   "id": "920f9134-8039-471a-abe8-a5c8964f86ef",
   "metadata": {},
   "source": [
    "# Project 2\n",
    "## Eniacs product strategy"
   ]
  },
  {
   "cell_type": "markdown",
   "id": "ad289d4f-adbb-43e8-b21e-dbd0377838f7",
   "metadata": {
    "tags": []
   },
   "source": [
    "Your analyse can finally settle an ongoing debate for the mgmt: whether or not it’s beneficial to discount products.\n",
    "\n",
    "*Marketing opinion*\\\n",
    "Marketing Team Lead is convinced that offering discounts is beneficial in the long run:\n",
    "1. discounts improve customer acquisition, satisfaction and retention, and allows the company to grow.\n",
    "\n",
    "*Investors opinion*\\\n",
    "Main investors in the Board are worried about offering aggressive discounts:\n",
    "1. recent quarterly results showed an increase in number of orders, but a decrease in the total revenue\n",
    "2. focus in quality segment, rather than offer lowest prices in market\n",
    "\n",
    "*Your analytical and business skills are needed to give clarity in the following aspects:*\n",
    "- How products should be classified into different categories in order to simplify reports and analysis.\n",
    "- What is the distribution of product prices across different categories.\n",
    "- How many products are being discounted.\n",
    "- How big are the offered discounts as a percentage of the product prices.\n",
    "- How seasonality and special dates (Christmas, Black Friday) affect sales.\n",
    "- How could data collection be improved.\n",
    "\n",
    "`Present to company board your analysis (short and concise, but also engaging and convincing)`"
   ]
  },
  {
   "cell_type": "code",
   "execution_count": null,
   "id": "4eabffe9-8851-4873-867d-269956d593a2",
   "metadata": {},
   "outputs": [],
   "source": [
    "# Preparation"
   ]
  },
  {
   "cell_type": "code",
   "execution_count": null,
   "id": "02724ea5-7fe3-4bf3-8177-8f2b6da98ee9",
   "metadata": {},
   "outputs": [],
   "source": [
    "import pandas as pd\n",
    "import matplotlib.pyplot as plt\n",
    "import seaborn as sns\n",
    "import numpy as np\n",
    "import re\n",
    "pd.options.display.float_format = '{:.2f}'.format"
   ]
  },
  {
   "cell_type": "code",
   "execution_count": null,
   "id": "1cb49854-0458-4727-b99f-95767b2360d2",
   "metadata": {},
   "outputs": [],
   "source": [
    "path = 'eniac/clean/'\n",
    "orderlines = pd.read_csv(path + 'orderlines_cl.csv')\n",
    "orders = pd.read_csv(path + 'orders_cl.csv')\n",
    "brands = pd.read_csv(path + 'brands_cl.csv')\n",
    "products = pd.read_csv(path + 'products_cl.csv')"
   ]
  },
  {
   "cell_type": "code",
   "execution_count": null,
   "id": "a8c59374-af8f-47ef-9e8a-bb1c1d540b9b",
   "metadata": {},
   "outputs": [],
   "source": [
    "orders['created_date'] = pd.to_datetime(orders['created_date'])\n",
    "orderlines['date'] = pd.to_datetime(orderlines['date'])"
   ]
  },
  {
   "cell_type": "markdown",
   "id": "88235fc0-a7d7-4126-8512-2f2be634c566",
   "metadata": {},
   "source": [
    "## Part from Rias"
   ]
  },
  {
   "cell_type": "markdown",
   "id": "2a28d786-139c-404b-b348-d6e6aa6b40cf",
   "metadata": {},
   "source": [
    "### Ratio of quality products (+500 euro) on total monthly sales 17/18"
   ]
  },
  {
   "cell_type": "code",
   "execution_count": 722,
   "id": "e8f05fa1-dc38-4a09-a30b-7dd539df3ad4",
   "metadata": {},
   "outputs": [],
   "source": [
    "qlty = (\n",
    "orderlines\n",
    "    .merge(orders, how='left', left_on='id_order', right_on='order_id')\n",
    "    .query('state == \"Completed\"')\n",
    "    .assign(price_cat = lambda x: pd.cut(x['total_price'], [0, 500, 8500]),\n",
    "            y_m = lambda x: x['date'].dt.to_period('M'))\n",
    "    .groupby(['y_m','price_cat'])\n",
    "    .agg(count = ('id_order','count'))\n",
    "    .reset_index()\n",
    "    .assign(total_count = lambda x: x.groupby('y_m')['count'].transform('sum'))\n",
    "    .assign(ratio = lambda x: 100 * x['count'] / x['total_count'],\n",
    "            price_cat = lambda x: x['price_cat'].astype('str'))    \n",
    "    .query('price_cat == \"(500, 8500]\"')\n",
    ")\n",
    "qlty"
   ]
  },
  {
   "cell_type": "code",
   "execution_count": null,
   "id": "6157fa3b-36ee-4370-ba8b-f9eb3e99a1b4",
   "metadata": {},
   "outputs": [],
   "source": [
    "qlty.to_excel('eniac/categories.xlsx')"
   ]
  },
  {
   "cell_type": "markdown",
   "id": "5edbc205-7b43-4dbc-b43f-015ef61c7487",
   "metadata": {},
   "source": [
    "### How many products are being discounted?"
   ]
  },
  {
   "cell_type": "code",
   "execution_count": 579,
   "id": "1163dd76-ba5b-483d-8d60-aca081398409",
   "metadata": {},
   "outputs": [
    {
     "name": "stdout",
     "output_type": "stream",
     "text": [
      "90.49965380094359\n"
     ]
    }
   ],
   "source": [
    "# How many products have been sold overall?\n",
    "t = (orderlines.merge(orders, how='left', left_on='id_order', right_on='order_id').query('state == \"Completed\"').shape) \n",
    "\n",
    "# How much of them had a discount more then 0 euros?\n",
    "d = (\n",
    "orderlines\n",
    "    .merge(orders, how='left', left_on='id_order', right_on='order_id')\n",
    "    .query('state == \"Completed\"')\n",
    "    .merge(products, how='left', left_on='sku', right_on='sku')\n",
    "    .assign(disc_perc = lambda x: round((1 - x['unit_price'] / x['price'])*100), \n",
    "            disc = lambda x: x['price'] - x['unit_price'],)\n",
    "    .query('disc > 0')\n",
    "    .shape\n",
    ")\n",
    "print(d[0]*100/t[0])"
   ]
  },
  {
   "cell_type": "markdown",
   "id": "9703b472-9d23-4626-bf8d-b81b4afdbb89",
   "metadata": {},
   "source": [
    "### Buildung categories"
   ]
  },
  {
   "cell_type": "code",
   "execution_count": null,
   "id": "023b66b7-5f88-426a-bcf5-698e5fbee5ad",
   "metadata": {},
   "outputs": [],
   "source": [
    "## how many sku's exist?\n",
    "orderlines.value_counts('sku')#.head(20)#.to_excel('eniac/top_skus.xlsx')#, 'id_order')#['id_order']#.head(50)\n",
    "## 7951 sku's overall"
   ]
  },
  {
   "cell_type": "code",
   "execution_count": 700,
   "id": "81064544-3cc7-47ba-b3a8-863043407d8a",
   "metadata": {},
   "outputs": [
    {
     "data": {
      "text/plain": [
       "accessories    3295\n",
       "computers       805\n",
       "phone           615\n",
       "unknown         552\n",
       "storage         344\n",
       "refurbished     208\n",
       "wearables       145\n",
       "licences         17\n",
       "Name: category, dtype: int64"
      ]
     },
     "execution_count": 700,
     "metadata": {},
     "output_type": "execute_result"
    }
   ],
   "source": [
    "# build categories\n",
    "prep_cat = (\n",
    "orderlines\n",
    "    .merge(products, how='left')\n",
    "    .merge(orders, left_on='id_order', right_on='order_id', how='left')\n",
    "    .query('state == \"Completed\"')\n",
    "    .assign(short = lambda x: x['name'].str[:45])\n",
    "    .groupby(['sku', 'short', 'desc'])\n",
    "    .agg({'product_quantity':'sum'})\n",
    "    .reset_index()\n",
    "    .sort_values('product_quantity', ascending=False)\n",
    ")\n",
    "\n",
    "regexp_dict = {\n",
    "    'licences':'(AppleCare|Apple Care|Care|license|License)',\n",
    "    'accessories':'(Kit|Ram|Keyboard|Car charger|Case|case|funda|Housing|housing|casing|folder|protect|cover|sleeve|Screensaver|shell|cable|connector|Lightning to USB|Wall socket|power strip|battery|Mouse|Pencil|USB-C|adapter)',\n",
    "    'refurbished':'(refurbished|reconditioned|like new)',\n",
    "    'wearables':'(^.{0,6}apple watch|smartwatch|smart watch|headset|headphones)',\n",
    "    'storage':'(SSD|NAS|HDD)',\n",
    "    'phone':('Apple iPhone|Phone'),\n",
    "    'computers':'(iMac|MacBook|Mac Pro|iPad|Tablet|PC)'\n",
    "}\n",
    "\n",
    "temp = prep_cat.copy().assign(category = 'unknown')\n",
    "\n",
    "import numpy as np\n",
    "\n",
    "for val in regexp_dict.items(): \n",
    "    label = val[0]\n",
    "    regexp = re.compile(val[1], flags=re.IGNORECASE)\n",
    "    temp = (\n",
    "    temp\n",
    "        .assign(\n",
    "            category = lambda x: np.where(\n",
    "                (x['desc'].str.contains(regexp, regex=True)) &\n",
    "                (x['category'] == 'unknown'), label, x['category'])))\n",
    "\n",
    "temp['category'].value_counts()"
   ]
  },
  {
   "cell_type": "code",
   "execution_count": 691,
   "id": "c8c6a4ae-efbb-4b79-92ff-927f9583eae1",
   "metadata": {},
   "outputs": [],
   "source": [
    "temp.to_excel('eniac/categories.xlsx')"
   ]
  }
 ],
 "metadata": {
  "kernelspec": {
   "display_name": "Python 3",
   "language": "python",
   "name": "python3"
  },
  "language_info": {
   "codemirror_mode": {
    "name": "ipython",
    "version": 3
   },
   "file_extension": ".py",
   "mimetype": "text/x-python",
   "name": "python",
   "nbconvert_exporter": "python",
   "pygments_lexer": "ipython3",
   "version": "3.8.8"
  }
 },
 "nbformat": 4,
 "nbformat_minor": 5
}
