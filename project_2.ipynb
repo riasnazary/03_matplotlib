{
 "cells": [
  {
   "cell_type": "markdown",
   "id": "920f9134-8039-471a-abe8-a5c8964f86ef",
   "metadata": {},
   "source": [
    "# Project 2\n",
    "## Eniacs product strategy"
   ]
  },
  {
   "cell_type": "markdown",
   "id": "ad289d4f-adbb-43e8-b21e-dbd0377838f7",
   "metadata": {
    "tags": []
   },
   "source": [
    "Your analyse can finally settle an ongoing debate for the mgmt: whether or not it’s beneficial to discount products.\n",
    "\n",
    "*Marketing opinion*\\\n",
    "Marketing Team Lead is convinced that offering discounts is beneficial in the long run:\n",
    "1. discounts improve customer acquisition, satisfaction and retention, and allows the company to grow.\n",
    "\n",
    "*Investors opinion*\\\n",
    "Main investors in the Board are worried about offering aggressive discounts:\n",
    "1. recent quarterly results showed an increase in number of orders, but a decrease in the total revenue\n",
    "2. focus in quality segment, rather than offer lowest prices in market\n",
    "\n",
    "*Your analytical and business skills are needed to give clarity in the following aspects:*\n",
    "- How products should be classified into different categories in order to simplify reports and analysis.\n",
    "- What is the distribution of product prices across different categories.\n",
    "- How many products are being discounted.\n",
    "- How big are the offered discounts as a percentage of the product prices.\n",
    "- How seasonality and special dates (Christmas, Black Friday) affect sales.\n",
    "- How could data collection be improved.\n",
    "\n",
    "`Present to company board your analysis (short and concise, but also engaging and convincing)`"
   ]
  },
  {
   "cell_type": "code",
   "execution_count": 271,
   "id": "02724ea5-7fe3-4bf3-8177-8f2b6da98ee9",
   "metadata": {},
   "outputs": [],
   "source": [
    "import pandas as pd\n",
    "import matplotlib.pyplot as plt\n",
    "import seaborn as sns\n",
    "import numpy as np\n",
    "import re\n",
    "pd.options.display.float_format = '{:.2f}'.format"
   ]
  },
  {
   "cell_type": "code",
   "execution_count": 272,
   "id": "1cb49854-0458-4727-b99f-95767b2360d2",
   "metadata": {},
   "outputs": [],
   "source": [
    "path = 'eniac/clean/'\n",
    "orderlines = pd.read_csv(path + 'orderlines_cl.csv')\n",
    "orders = pd.read_csv(path + 'orders_cl.csv')\n",
    "brands = pd.read_csv(path + 'brands_cl.csv')\n",
    "products = pd.read_csv(path + 'products_cl.csv')"
   ]
  },
  {
   "cell_type": "code",
   "execution_count": 273,
   "id": "a8c59374-af8f-47ef-9e8a-bb1c1d540b9b",
   "metadata": {},
   "outputs": [],
   "source": [
    "orders['created_date'] = pd.to_datetime(orders['created_date'])\n",
    "orderlines['date'] = pd.to_datetime(orderlines['date'])"
   ]
  },
  {
   "cell_type": "markdown",
   "id": "88235fc0-a7d7-4126-8512-2f2be634c566",
   "metadata": {},
   "source": [
    "## Part from Rias"
   ]
  },
  {
   "cell_type": "code",
   "execution_count": null,
   "id": "0dbbe17c-e2af-481f-b23d-ddf4fa025003",
   "metadata": {
    "jupyter": {
     "source_hidden": true
    },
    "tags": []
   },
   "outputs": [],
   "source": [
    "p_df2 = (\n",
    "df2\n",
    "    .assign(year = df2['date'].dt.strftime('%Y'),\n",
    "            month = df2['date'].dt.strftime('%m'))\n",
    "    .groupby(['year', 'month'])\n",
    "    .agg({'total_paid':'sum'})\n",
    "    .reset_index()\n",
    "    .assign(qlty_perc = lambda x: np.where(x['unit_price_cat'].str.count('quality')==1,1 - x['total_price'] / x['total_paid']*100, '0'))\n",
    ")\n",
    "p_df2"
   ]
  },
  {
   "cell_type": "code",
   "execution_count": 301,
   "id": "e8f05fa1-dc38-4a09-a30b-7dd539df3ad4",
   "metadata": {},
   "outputs": [],
   "source": [
    "p_df2 = (\n",
    "orderlines\n",
    "    .merge(orders, how='left', left_on='id_order', right_on='order_id')\n",
    "    .query('state == \"Completed\"')\n",
    "    .assign(price_cat = lambda x: pd.cut(x['unit_price'], [0, 1000, 8500]),\n",
    "            y_m = lambda x: x['date'].dt.to_period('M'))\n",
    "    .groupby(['y_m','price_cat'])\n",
    "    .agg(count = ('id_order','count'))\n",
    "    .reset_index()\n",
    "    .assign(total_count = lambda x: x.groupby('y_m')['count'].transform('sum'))\n",
    "    .assign(ratio = lambda x: x['count'] / x['total_count'],\n",
    "            price_cat = lambda x: x['price_cat'].astype('str'))    \n",
    "    .query('price_cat == \"(1000, 8500]\"')\n",
    "#     .to_excel('eniac/filename.xlsx')\n",
    ")\n",
    "p_df2"
   ]
  },
  {
   "cell_type": "code",
   "execution_count": null,
   "id": "86ec0a3d-d1b1-4e5f-957d-85daede31935",
   "metadata": {
    "tags": []
   },
   "outputs": [],
   "source": [
    "plt.subplots(figsize=(10, 6))\n",
    "plt.plot_date(data=p_df2, x='y_m', y='ratio', linestyle='-')\n",
    "plt.title('Ratio of quality products (+500 euro) on total monthly sales 17/18')\n",
    "plt.ylabel('Ratio in %')\n",
    "plt.ylim(0, p_df['ratio'].max()*1.2)\n",
    "sns.despine()\n",
    "plt.show()"
   ]
  },
  {
   "cell_type": "code",
   "execution_count": null,
   "id": "1241b91f-18a2-4c06-bca4-ed54784121c9",
   "metadata": {
    "tags": []
   },
   "outputs": [],
   "source": [
    "orderlines['id_order'].value_counts().head(10)"
   ]
  },
  {
   "cell_type": "code",
   "execution_count": 340,
   "id": "32b38476-1cd3-4853-98a3-1eec08f0a25f",
   "metadata": {},
   "outputs": [
    {
     "data": {
      "text/plain": [
       "0    AirPods Apple Bluetooth Headset for iPhone iPa...\n",
       "Name: name, dtype: object"
      ]
     },
     "execution_count": 340,
     "metadata": {},
     "output_type": "execute_result"
    }
   ],
   "source": [
    "t = (\n",
    "orderlines\n",
    "    .query('sku == \"APP1922\"')\n",
    "    .merge(products, how='left')\n",
    "    ['name']\n",
    ")   \n",
    "t.head(1)\n",
    "    #['unit_price'].describe()\n",
    "## (sku – stock keeping unit: a unique identifier for each product)\n",
    "## amount of APP1922 sku: 1610, min: 0, max: 179, mean: 162.41, std: 11.56"
   ]
  },
  {
   "cell_type": "code",
   "execution_count": null,
   "id": "37ffed07-621a-4521-b622-c3bda7e15a8b",
   "metadata": {},
   "outputs": [],
   "source": [
    "(\n",
    "orderlines\n",
    "    .query('id_order == 395611')\n",
    "    .merge(products, how='left')\n",
    "#     ['name']\n",
    ")"
   ]
  }
 ],
 "metadata": {
  "kernelspec": {
   "display_name": "Python 3",
   "language": "python",
   "name": "python3"
  },
  "language_info": {
   "codemirror_mode": {
    "name": "ipython",
    "version": 3
   },
   "file_extension": ".py",
   "mimetype": "text/x-python",
   "name": "python",
   "nbconvert_exporter": "python",
   "pygments_lexer": "ipython3",
   "version": "3.8.8"
  }
 },
 "nbformat": 4,
 "nbformat_minor": 5
}
