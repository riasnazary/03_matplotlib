{
 "cells": [
  {
   "cell_type": "markdown",
   "id": "920f9134-8039-471a-abe8-a5c8964f86ef",
   "metadata": {},
   "source": [
    "# Project 2\n",
    "## Eniacs product strategy"
   ]
  },
  {
   "cell_type": "markdown",
   "id": "ad289d4f-adbb-43e8-b21e-dbd0377838f7",
   "metadata": {
    "tags": []
   },
   "source": [
    "Your analyse can finally settle an ongoing debate for the mgmt: whether or not it’s beneficial to discount products.\n",
    "\n",
    "*Pro discount*\\\n",
    "Marketing Team Lead is convinced that offering discounts is beneficial in the long run:\n",
    "1. discounts improve customer acquisition, satisfaction and retention, and allows the company to grow.\n",
    "\n",
    "*Con discount*\\\n",
    "Main investors in the Board are worried about offering aggressive discounts:\n",
    "1. recent quarterly results showed an increase in number of orders, but a decrease in the total revenue\n",
    "2. focus in quality segment, rather than offer lowest prices in market\n",
    "\n",
    "*Your analytical and business skills are needed to give clarity in the following aspects:*\n",
    "- How products should be classified into different categories in order to simplify reports and analysis.\n",
    "- What is the distribution of product prices across different categories.\n",
    "- How many products are being discounted.\n",
    "- How big are the offered discounts as a percentage of the product prices.\n",
    "- How seasonality and special dates (Christmas, Black Friday) affect sales.\n",
    "- How could data collection be improved.\n",
    "\n",
    "`Present to company board your analysis (short and concise, but also engaging and convincing)`"
   ]
  },
  {
   "cell_type": "markdown",
   "id": "3804b527-c599-4e17-bec5-a47e97d9956f",
   "metadata": {
    "jupyter": {
     "source_hidden": true
    },
    "tags": []
   },
   "source": [
    "## Brainstorming\n",
    "\n",
    "Investigation and creating diagrams: \n",
    "1. ratio of discount products to monthly revenue --> Mahsa\n",
    "2. qty of high-end products to monthly revenue --> Rias\n",
    "3. Which are top products? (may be this question can be included to question no 4)\n",
    "4. Categories --> Kristina\n",
    "- NAS/ HDD\n",
    "- Computer\n",
    "- Phones\n",
    "- Monitor\n",
    "- Peripheries \n",
    "\n",
    "May be \"50/50\" soluation(?)\n",
    "Depending on “yes” or “no” for discount product strategy:\n",
    "Mix Marketing (4Ps)"
   ]
  },
  {
   "cell_type": "markdown",
   "id": "784bfde5-95ec-46f2-add5-25e382366549",
   "metadata": {
    "jupyter": {
     "source_hidden": true
    },
    "tags": []
   },
   "source": [
    "product:....shape (__10579, 5), col: sku, name, desc, price, max_price_orderlines \\\n",
    "orders:......shape (204691, 4), col: order_id, created_date, total_paid, state \\\n",
    "orderlines..shape (293743, 8), col: id, id_order, product_id, product_quantity, sku, unit_price, date, total_price \\\n",
    "brands:......shape (____187, 2), col: short, long"
   ]
  },
  {
   "cell_type": "code",
   "execution_count": 271,
   "id": "02724ea5-7fe3-4bf3-8177-8f2b6da98ee9",
   "metadata": {},
   "outputs": [],
   "source": [
    "import pandas as pd\n",
    "import matplotlib.pyplot as plt\n",
    "import seaborn as sns\n",
    "import numpy as np\n",
    "import re\n",
    "pd.options.display.float_format = '{:.2f}'.format"
   ]
  },
  {
   "cell_type": "code",
   "execution_count": 272,
   "id": "1cb49854-0458-4727-b99f-95767b2360d2",
   "metadata": {},
   "outputs": [],
   "source": [
    "path = 'eniac/clean/'\n",
    "orderlines = pd.read_csv(path + 'orderlines_cl.csv')\n",
    "orders = pd.read_csv(path + 'orders_cl.csv')\n",
    "brands = pd.read_csv(path + 'brands_cl.csv')\n",
    "products = pd.read_csv(path + 'products_cl.csv')"
   ]
  },
  {
   "cell_type": "code",
   "execution_count": 273,
   "id": "a8c59374-af8f-47ef-9e8a-bb1c1d540b9b",
   "metadata": {},
   "outputs": [],
   "source": [
    "orders['created_date'] = pd.to_datetime(orders['created_date'])\n",
    "orderlines['date'] = pd.to_datetime(orderlines['date'])"
   ]
  },
  {
   "cell_type": "markdown",
   "id": "88235fc0-a7d7-4126-8512-2f2be634c566",
   "metadata": {},
   "source": [
    "## TRY & ERROR"
   ]
  },
  {
   "cell_type": "code",
   "execution_count": 225,
   "id": "2492239d-d3cd-4fc6-8c38-9887820d2e2a",
   "metadata": {
    "jupyter": {
     "source_hidden": true
    },
    "tags": []
   },
   "outputs": [],
   "source": [
    "# create one table tailored for our purpose"
   ]
  },
  {
   "cell_type": "code",
   "execution_count": 209,
   "id": "331d37b7-af7a-470f-97c3-c7d7e03cae04",
   "metadata": {
    "collapsed": true,
    "jupyter": {
     "outputs_hidden": true,
     "source_hidden": true
    },
    "tags": []
   },
   "outputs": [
    {
     "data": {
      "text/html": [
       "<div>\n",
       "<style scoped>\n",
       "    .dataframe tbody tr th:only-of-type {\n",
       "        vertical-align: middle;\n",
       "    }\n",
       "\n",
       "    .dataframe tbody tr th {\n",
       "        vertical-align: top;\n",
       "    }\n",
       "\n",
       "    .dataframe thead th {\n",
       "        text-align: right;\n",
       "    }\n",
       "</style>\n",
       "<table border=\"1\" class=\"dataframe\">\n",
       "  <thead>\n",
       "    <tr style=\"text-align: right;\">\n",
       "      <th></th>\n",
       "      <th>prod_qty</th>\n",
       "      <th>unit_price</th>\n",
       "      <th>total_price</th>\n",
       "      <th>total_paid</th>\n",
       "      <th>price</th>\n",
       "      <th>max_price_ol</th>\n",
       "      <th>name</th>\n",
       "      <th>desc</th>\n",
       "      <th>date</th>\n",
       "    </tr>\n",
       "  </thead>\n",
       "  <tbody>\n",
       "    <tr>\n",
       "      <th>0</th>\n",
       "      <td>1</td>\n",
       "      <td>47.49</td>\n",
       "      <td>47.49</td>\n",
       "      <td>51.48</td>\n",
       "      <td>60.99</td>\n",
       "      <td>NaN</td>\n",
       "      <td>OWC In-line Digital Temperature Sensor Kit HDD...</td>\n",
       "      <td>Kit temperature sensor for HDD iMac 21 inch an...</td>\n",
       "      <td>2017-01-01 01:46:16</td>\n",
       "    </tr>\n",
       "    <tr>\n",
       "      <th>1</th>\n",
       "      <td>1</td>\n",
       "      <td>18.99</td>\n",
       "      <td>18.99</td>\n",
       "      <td>18.99</td>\n",
       "      <td>22.95</td>\n",
       "      <td>NaN</td>\n",
       "      <td>iOttie Easy View 2 Car Black Support</td>\n",
       "      <td>IPhone car holder 7 plus / 7/6 Plus / 6 / 5s /...</td>\n",
       "      <td>2017-01-01 01:50:34</td>\n",
       "    </tr>\n",
       "  </tbody>\n",
       "</table>\n",
       "</div>"
      ],
      "text/plain": [
       "   prod_qty  unit_price  total_price  total_paid  price  max_price_ol  \\\n",
       "0         1       47.49        47.49       51.48  60.99           NaN   \n",
       "1         1       18.99        18.99       18.99  22.95           NaN   \n",
       "\n",
       "                                                name  \\\n",
       "0  OWC In-line Digital Temperature Sensor Kit HDD...   \n",
       "1               iOttie Easy View 2 Car Black Support   \n",
       "\n",
       "                                                desc                date  \n",
       "0  Kit temperature sensor for HDD iMac 21 inch an... 2017-01-01 01:46:16  \n",
       "1  IPhone car holder 7 plus / 7/6 Plus / 6 / 5s /... 2017-01-01 01:50:34  "
      ]
     },
     "execution_count": 209,
     "metadata": {},
     "output_type": "execute_result"
    }
   ],
   "source": [
    "df2 = (\n",
    "orderlines\n",
    "    .merge(orders, how='left', left_on='id_order', right_on='order_id')\n",
    "    .query('state == \"Completed\"')\n",
    "    .merge(products, how='left', left_on='sku', right_on='sku')\n",
    ")\n",
    "df2.drop(['id_order', 'product_id', 'sku', 'order_id', 'created_date', 'state'], axis=1, inplace=True)\n",
    "df2.rename({'product_quantity':'prod_qty', 'max_price_orderlines':'max_price_ol'}, axis=1, inplace=True)\n",
    "df2 = df2[['prod_qty', 'unit_price', 'total_price', 'total_paid', 'price', 'max_price_ol', 'name', 'desc', 'date']]\n",
    "df2.head(2) #62103 rows"
   ]
  },
  {
   "cell_type": "code",
   "execution_count": 226,
   "id": "db31c06b-c79f-494a-9025-edb42ef908ab",
   "metadata": {
    "tags": []
   },
   "outputs": [],
   "source": [
    "# distinguish between cheap and expensive \"quality\" products"
   ]
  },
  {
   "cell_type": "code",
   "execution_count": 216,
   "id": "42e79e45-ff9b-495a-bcb9-c1b8e0dbc025",
   "metadata": {
    "jupyter": {
     "source_hidden": true
    },
    "tags": []
   },
   "outputs": [],
   "source": [
    "df2[\"unit_price_cat\"] = pd.cut(df2[\"unit_price\"], \n",
    "                      bins = [0, 1000, 8500], \n",
    "                      labels=[\"cheap\", \"quality\"])"
   ]
  },
  {
   "cell_type": "code",
   "execution_count": 217,
   "id": "1241b91f-18a2-4c06-bca4-ed54784121c9",
   "metadata": {
    "collapsed": true,
    "jupyter": {
     "outputs_hidden": true,
     "source_hidden": true
    },
    "tags": []
   },
   "outputs": [
    {
     "data": {
      "text/html": [
       "<div>\n",
       "<style scoped>\n",
       "    .dataframe tbody tr th:only-of-type {\n",
       "        vertical-align: middle;\n",
       "    }\n",
       "\n",
       "    .dataframe tbody tr th {\n",
       "        vertical-align: top;\n",
       "    }\n",
       "\n",
       "    .dataframe thead th {\n",
       "        text-align: right;\n",
       "    }\n",
       "</style>\n",
       "<table border=\"1\" class=\"dataframe\">\n",
       "  <thead>\n",
       "    <tr style=\"text-align: right;\">\n",
       "      <th></th>\n",
       "      <th>prod_qty</th>\n",
       "      <th>unit_price</th>\n",
       "      <th>total_price</th>\n",
       "      <th>total_paid</th>\n",
       "      <th>price</th>\n",
       "      <th>max_price_ol</th>\n",
       "      <th>name</th>\n",
       "      <th>desc</th>\n",
       "      <th>date</th>\n",
       "      <th>unit_price_cat</th>\n",
       "    </tr>\n",
       "  </thead>\n",
       "  <tbody>\n",
       "    <tr>\n",
       "      <th>0</th>\n",
       "      <td>1</td>\n",
       "      <td>47.49</td>\n",
       "      <td>47.49</td>\n",
       "      <td>51.48</td>\n",
       "      <td>60.99</td>\n",
       "      <td>NaN</td>\n",
       "      <td>OWC In-line Digital Temperature Sensor Kit HDD...</td>\n",
       "      <td>Kit temperature sensor for HDD iMac 21 inch an...</td>\n",
       "      <td>2017-01-01 01:46:16</td>\n",
       "      <td>cheap</td>\n",
       "    </tr>\n",
       "    <tr>\n",
       "      <th>1</th>\n",
       "      <td>1</td>\n",
       "      <td>18.99</td>\n",
       "      <td>18.99</td>\n",
       "      <td>18.99</td>\n",
       "      <td>22.95</td>\n",
       "      <td>NaN</td>\n",
       "      <td>iOttie Easy View 2 Car Black Support</td>\n",
       "      <td>IPhone car holder 7 plus / 7/6 Plus / 6 / 5s /...</td>\n",
       "      <td>2017-01-01 01:50:34</td>\n",
       "      <td>cheap</td>\n",
       "    </tr>\n",
       "  </tbody>\n",
       "</table>\n",
       "</div>"
      ],
      "text/plain": [
       "   prod_qty  unit_price  total_price  total_paid  price  max_price_ol  \\\n",
       "0         1       47.49        47.49       51.48  60.99           NaN   \n",
       "1         1       18.99        18.99       18.99  22.95           NaN   \n",
       "\n",
       "                                                name  \\\n",
       "0  OWC In-line Digital Temperature Sensor Kit HDD...   \n",
       "1               iOttie Easy View 2 Car Black Support   \n",
       "\n",
       "                                                desc                date  \\\n",
       "0  Kit temperature sensor for HDD iMac 21 inch an... 2017-01-01 01:46:16   \n",
       "1  IPhone car holder 7 plus / 7/6 Plus / 6 / 5s /... 2017-01-01 01:50:34   \n",
       "\n",
       "  unit_price_cat  \n",
       "0          cheap  \n",
       "1          cheap  "
      ]
     },
     "execution_count": 217,
     "metadata": {},
     "output_type": "execute_result"
    }
   ],
   "source": [
    "df2.head(2)"
   ]
  },
  {
   "cell_type": "code",
   "execution_count": null,
   "id": "0dbbe17c-e2af-481f-b23d-ddf4fa025003",
   "metadata": {
    "jupyter": {
     "source_hidden": true
    },
    "tags": []
   },
   "outputs": [],
   "source": [
    "p_df2 = (\n",
    "df2\n",
    "    .assign(year = df2['date'].dt.strftime('%Y'),\n",
    "            month = df2['date'].dt.strftime('%m'))\n",
    "    .groupby(['year', 'month'])\n",
    "    .agg({'total_paid':'sum'})\n",
    "    .reset_index()\n",
    "    .assign(qlty_perc = lambda x: np.where(x['unit_price_cat'].str.count('quality')==1,1 - x['total_price'] / x['total_paid']*100, '0'))\n",
    ")\n",
    "p_df2"
   ]
  },
  {
   "cell_type": "code",
   "execution_count": 299,
   "id": "4a0fcab9-0fa4-40dc-b07d-4009058e4c7b",
   "metadata": {},
   "outputs": [
    {
     "data": {
      "text/html": [
       "<div>\n",
       "<style scoped>\n",
       "    .dataframe tbody tr th:only-of-type {\n",
       "        vertical-align: middle;\n",
       "    }\n",
       "\n",
       "    .dataframe tbody tr th {\n",
       "        vertical-align: top;\n",
       "    }\n",
       "\n",
       "    .dataframe thead th {\n",
       "        text-align: right;\n",
       "    }\n",
       "</style>\n",
       "<table border=\"1\" class=\"dataframe\">\n",
       "  <thead>\n",
       "    <tr style=\"text-align: right;\">\n",
       "      <th></th>\n",
       "      <th>y_m</th>\n",
       "      <th>price_cat</th>\n",
       "      <th>count</th>\n",
       "      <th>total_count</th>\n",
       "      <th>ratio</th>\n",
       "    </tr>\n",
       "  </thead>\n",
       "  <tbody>\n",
       "    <tr>\n",
       "      <th>1</th>\n",
       "      <td>2017-01</td>\n",
       "      <td>(500, 8500]</td>\n",
       "      <td>435</td>\n",
       "      <td>6814</td>\n",
       "      <td>6.38</td>\n",
       "    </tr>\n",
       "    <tr>\n",
       "      <th>3</th>\n",
       "      <td>2017-02</td>\n",
       "      <td>(500, 8500]</td>\n",
       "      <td>240</td>\n",
       "      <td>2923</td>\n",
       "      <td>8.21</td>\n",
       "    </tr>\n",
       "    <tr>\n",
       "      <th>5</th>\n",
       "      <td>2017-03</td>\n",
       "      <td>(500, 8500]</td>\n",
       "      <td>40</td>\n",
       "      <td>281</td>\n",
       "      <td>14.23</td>\n",
       "    </tr>\n",
       "    <tr>\n",
       "      <th>7</th>\n",
       "      <td>2017-04</td>\n",
       "      <td>(500, 8500]</td>\n",
       "      <td>175</td>\n",
       "      <td>2191</td>\n",
       "      <td>7.99</td>\n",
       "    </tr>\n",
       "    <tr>\n",
       "      <th>9</th>\n",
       "      <td>2017-05</td>\n",
       "      <td>(500, 8500]</td>\n",
       "      <td>273</td>\n",
       "      <td>2532</td>\n",
       "      <td>10.78</td>\n",
       "    </tr>\n",
       "    <tr>\n",
       "      <th>11</th>\n",
       "      <td>2017-06</td>\n",
       "      <td>(500, 8500]</td>\n",
       "      <td>307</td>\n",
       "      <td>2178</td>\n",
       "      <td>14.10</td>\n",
       "    </tr>\n",
       "    <tr>\n",
       "      <th>13</th>\n",
       "      <td>2017-07</td>\n",
       "      <td>(500, 8500]</td>\n",
       "      <td>409</td>\n",
       "      <td>4717</td>\n",
       "      <td>8.67</td>\n",
       "    </tr>\n",
       "    <tr>\n",
       "      <th>15</th>\n",
       "      <td>2017-08</td>\n",
       "      <td>(500, 8500]</td>\n",
       "      <td>255</td>\n",
       "      <td>3141</td>\n",
       "      <td>8.12</td>\n",
       "    </tr>\n",
       "    <tr>\n",
       "      <th>17</th>\n",
       "      <td>2017-09</td>\n",
       "      <td>(500, 8500]</td>\n",
       "      <td>409</td>\n",
       "      <td>2945</td>\n",
       "      <td>13.89</td>\n",
       "    </tr>\n",
       "    <tr>\n",
       "      <th>19</th>\n",
       "      <td>2017-10</td>\n",
       "      <td>(500, 8500]</td>\n",
       "      <td>481</td>\n",
       "      <td>4150</td>\n",
       "      <td>11.59</td>\n",
       "    </tr>\n",
       "    <tr>\n",
       "      <th>21</th>\n",
       "      <td>2017-11</td>\n",
       "      <td>(500, 8500]</td>\n",
       "      <td>1359</td>\n",
       "      <td>9963</td>\n",
       "      <td>13.64</td>\n",
       "    </tr>\n",
       "    <tr>\n",
       "      <th>23</th>\n",
       "      <td>2017-12</td>\n",
       "      <td>(500, 8500]</td>\n",
       "      <td>904</td>\n",
       "      <td>7032</td>\n",
       "      <td>12.86</td>\n",
       "    </tr>\n",
       "    <tr>\n",
       "      <th>25</th>\n",
       "      <td>2018-01</td>\n",
       "      <td>(500, 8500]</td>\n",
       "      <td>931</td>\n",
       "      <td>6938</td>\n",
       "      <td>13.42</td>\n",
       "    </tr>\n",
       "    <tr>\n",
       "      <th>27</th>\n",
       "      <td>2018-02</td>\n",
       "      <td>(500, 8500]</td>\n",
       "      <td>462</td>\n",
       "      <td>4377</td>\n",
       "      <td>10.56</td>\n",
       "    </tr>\n",
       "    <tr>\n",
       "      <th>29</th>\n",
       "      <td>2018-03</td>\n",
       "      <td>(500, 8500]</td>\n",
       "      <td>189</td>\n",
       "      <td>1872</td>\n",
       "      <td>10.10</td>\n",
       "    </tr>\n",
       "  </tbody>\n",
       "</table>\n",
       "</div>"
      ],
      "text/plain": [
       "        y_m    price_cat  count  total_count  ratio\n",
       "1   2017-01  (500, 8500]    435         6814   6.38\n",
       "3   2017-02  (500, 8500]    240         2923   8.21\n",
       "5   2017-03  (500, 8500]     40          281  14.23\n",
       "7   2017-04  (500, 8500]    175         2191   7.99\n",
       "9   2017-05  (500, 8500]    273         2532  10.78\n",
       "11  2017-06  (500, 8500]    307         2178  14.10\n",
       "13  2017-07  (500, 8500]    409         4717   8.67\n",
       "15  2017-08  (500, 8500]    255         3141   8.12\n",
       "17  2017-09  (500, 8500]    409         2945  13.89\n",
       "19  2017-10  (500, 8500]    481         4150  11.59\n",
       "21  2017-11  (500, 8500]   1359         9963  13.64\n",
       "23  2017-12  (500, 8500]    904         7032  12.86\n",
       "25  2018-01  (500, 8500]    931         6938  13.42\n",
       "27  2018-02  (500, 8500]    462         4377  10.56\n",
       "29  2018-03  (500, 8500]    189         1872  10.10"
      ]
     },
     "execution_count": 299,
     "metadata": {},
     "output_type": "execute_result"
    }
   ],
   "source": [
    "p_df2 = (\n",
    "orderlines\n",
    "    .merge(orders, how='left', left_on='id_order', right_on='order_id')\n",
    "    .query('state == \"Completed\"')\n",
    "    .assign(price_cat = lambda x: pd.cut(x['unit_price'], [0, 500, 8500]),\n",
    "            y_m = lambda x: x['date'].dt.to_period('M'),\n",
    "            week = lambda x: x['date'].dt.strftime('%W'),\n",
    "            year = lambda x: x['date'].dt.strftime('%Y'))\n",
    "    .groupby(['y_m','price_cat'])\n",
    "    .agg(count = ('id_order','count'))\n",
    "    .reset_index()\n",
    "    .assign(total_count = lambda x: x.groupby('y_m')['count'].transform('sum'))\n",
    "    .assign(ratio = lambda x: 100*x['count'] / x['total_count'],\n",
    "            price_cat = lambda x: x['price_cat'].astype('str'))\n",
    "    .query('price_cat == \"(500, 8500]\"')\n",
    ")\n",
    "p_df2"
   ]
  },
  {
   "cell_type": "code",
   "execution_count": null,
   "id": "2b2d34e5-b9eb-4539-b606-e6653161f47c",
   "metadata": {
    "jupyter": {
     "source_hidden": true
    },
    "tags": []
   },
   "outputs": [],
   "source": [
    "# plt.subplots(figsize=(14, 6))\n",
    "\n",
    "# ax = sns.scatterplot(data=p_df2, x='y_m', y='ratio', hue='year', legend=None)\n",
    "# vals = ax.get_yticks()\n",
    "# ax.set_yticklabels(['{:.0%}'.format(val) for val in vals])\n",
    "# sns.lineplot(data=p_df2, x='y_m', y='ratio', hue='year')\n",
    "\n",
    "# plt.legend(facecolor='white')\n",
    "# plt.title('Ratio of quality products (+500 euro) on sales 17/18')\n",
    "# plt.ylabel('Ratio [in %]')\n",
    "# plt.xlabel('Week number')\n",
    "# sns.despine()\n",
    "# plt.show()"
   ]
  },
  {
   "cell_type": "code",
   "execution_count": 298,
   "id": "86ec0a3d-d1b1-4e5f-957d-85daede31935",
   "metadata": {
    "tags": []
   },
   "outputs": [
    {
     "ename": "KeyError",
     "evalue": "'ratio'",
     "output_type": "error",
     "traceback": [
      "\u001b[0;31m---------------------------------------------------------------------------\u001b[0m",
      "\u001b[0;31mKeyError\u001b[0m                                  Traceback (most recent call last)",
      "\u001b[0;32m~/opt/anaconda3/lib/python3.8/site-packages/pandas/core/indexes/base.py\u001b[0m in \u001b[0;36mget_loc\u001b[0;34m(self, key, method, tolerance)\u001b[0m\n\u001b[1;32m   3079\u001b[0m             \u001b[0;32mtry\u001b[0m\u001b[0;34m:\u001b[0m\u001b[0;34m\u001b[0m\u001b[0;34m\u001b[0m\u001b[0m\n\u001b[0;32m-> 3080\u001b[0;31m                 \u001b[0;32mreturn\u001b[0m \u001b[0mself\u001b[0m\u001b[0;34m.\u001b[0m\u001b[0m_engine\u001b[0m\u001b[0;34m.\u001b[0m\u001b[0mget_loc\u001b[0m\u001b[0;34m(\u001b[0m\u001b[0mcasted_key\u001b[0m\u001b[0;34m)\u001b[0m\u001b[0;34m\u001b[0m\u001b[0;34m\u001b[0m\u001b[0m\n\u001b[0m\u001b[1;32m   3081\u001b[0m             \u001b[0;32mexcept\u001b[0m \u001b[0mKeyError\u001b[0m \u001b[0;32mas\u001b[0m \u001b[0merr\u001b[0m\u001b[0;34m:\u001b[0m\u001b[0;34m\u001b[0m\u001b[0;34m\u001b[0m\u001b[0m\n",
      "\u001b[0;32mpandas/_libs/index.pyx\u001b[0m in \u001b[0;36mpandas._libs.index.IndexEngine.get_loc\u001b[0;34m()\u001b[0m\n",
      "\u001b[0;32mpandas/_libs/index.pyx\u001b[0m in \u001b[0;36mpandas._libs.index.IndexEngine.get_loc\u001b[0;34m()\u001b[0m\n",
      "\u001b[0;32mpandas/_libs/hashtable_class_helper.pxi\u001b[0m in \u001b[0;36mpandas._libs.hashtable.PyObjectHashTable.get_item\u001b[0;34m()\u001b[0m\n",
      "\u001b[0;32mpandas/_libs/hashtable_class_helper.pxi\u001b[0m in \u001b[0;36mpandas._libs.hashtable.PyObjectHashTable.get_item\u001b[0;34m()\u001b[0m\n",
      "\u001b[0;31mKeyError\u001b[0m: 'ratio'",
      "\nThe above exception was the direct cause of the following exception:\n",
      "\u001b[0;31mKeyError\u001b[0m                                  Traceback (most recent call last)",
      "\u001b[0;32m<ipython-input-298-bb2c7fbfc293>\u001b[0m in \u001b[0;36m<module>\u001b[0;34m\u001b[0m\n\u001b[1;32m      5\u001b[0m \u001b[0mplt\u001b[0m\u001b[0;34m.\u001b[0m\u001b[0mtitle\u001b[0m\u001b[0;34m(\u001b[0m\u001b[0;34m'Ratio of quality products (+500 euro) on total monthly sales 17/18'\u001b[0m\u001b[0;34m)\u001b[0m\u001b[0;34m\u001b[0m\u001b[0;34m\u001b[0m\u001b[0m\n\u001b[1;32m      6\u001b[0m \u001b[0mplt\u001b[0m\u001b[0;34m.\u001b[0m\u001b[0mylabel\u001b[0m\u001b[0;34m(\u001b[0m\u001b[0;34m'Ratio in %'\u001b[0m\u001b[0;34m)\u001b[0m\u001b[0;34m\u001b[0m\u001b[0;34m\u001b[0m\u001b[0m\n\u001b[0;32m----> 7\u001b[0;31m \u001b[0mplt\u001b[0m\u001b[0;34m.\u001b[0m\u001b[0mylim\u001b[0m\u001b[0;34m(\u001b[0m\u001b[0;36m0\u001b[0m\u001b[0;34m,\u001b[0m \u001b[0mp_df\u001b[0m\u001b[0;34m[\u001b[0m\u001b[0;34m'ratio'\u001b[0m\u001b[0;34m]\u001b[0m\u001b[0;34m.\u001b[0m\u001b[0mmax\u001b[0m\u001b[0;34m(\u001b[0m\u001b[0;34m)\u001b[0m\u001b[0;34m*\u001b[0m\u001b[0;36m1.2\u001b[0m\u001b[0;34m)\u001b[0m\u001b[0;34m\u001b[0m\u001b[0;34m\u001b[0m\u001b[0m\n\u001b[0m\u001b[1;32m      8\u001b[0m \u001b[0msns\u001b[0m\u001b[0;34m.\u001b[0m\u001b[0mdespine\u001b[0m\u001b[0;34m(\u001b[0m\u001b[0;34m)\u001b[0m\u001b[0;34m\u001b[0m\u001b[0;34m\u001b[0m\u001b[0m\n\u001b[1;32m      9\u001b[0m \u001b[0mplt\u001b[0m\u001b[0;34m.\u001b[0m\u001b[0mshow\u001b[0m\u001b[0;34m(\u001b[0m\u001b[0;34m)\u001b[0m\u001b[0;34m\u001b[0m\u001b[0;34m\u001b[0m\u001b[0m\n",
      "\u001b[0;32m~/opt/anaconda3/lib/python3.8/site-packages/pandas/core/frame.py\u001b[0m in \u001b[0;36m__getitem__\u001b[0;34m(self, key)\u001b[0m\n\u001b[1;32m   3022\u001b[0m             \u001b[0;32mif\u001b[0m \u001b[0mself\u001b[0m\u001b[0;34m.\u001b[0m\u001b[0mcolumns\u001b[0m\u001b[0;34m.\u001b[0m\u001b[0mnlevels\u001b[0m \u001b[0;34m>\u001b[0m \u001b[0;36m1\u001b[0m\u001b[0;34m:\u001b[0m\u001b[0;34m\u001b[0m\u001b[0;34m\u001b[0m\u001b[0m\n\u001b[1;32m   3023\u001b[0m                 \u001b[0;32mreturn\u001b[0m \u001b[0mself\u001b[0m\u001b[0;34m.\u001b[0m\u001b[0m_getitem_multilevel\u001b[0m\u001b[0;34m(\u001b[0m\u001b[0mkey\u001b[0m\u001b[0;34m)\u001b[0m\u001b[0;34m\u001b[0m\u001b[0;34m\u001b[0m\u001b[0m\n\u001b[0;32m-> 3024\u001b[0;31m             \u001b[0mindexer\u001b[0m \u001b[0;34m=\u001b[0m \u001b[0mself\u001b[0m\u001b[0;34m.\u001b[0m\u001b[0mcolumns\u001b[0m\u001b[0;34m.\u001b[0m\u001b[0mget_loc\u001b[0m\u001b[0;34m(\u001b[0m\u001b[0mkey\u001b[0m\u001b[0;34m)\u001b[0m\u001b[0;34m\u001b[0m\u001b[0;34m\u001b[0m\u001b[0m\n\u001b[0m\u001b[1;32m   3025\u001b[0m             \u001b[0;32mif\u001b[0m \u001b[0mis_integer\u001b[0m\u001b[0;34m(\u001b[0m\u001b[0mindexer\u001b[0m\u001b[0;34m)\u001b[0m\u001b[0;34m:\u001b[0m\u001b[0;34m\u001b[0m\u001b[0;34m\u001b[0m\u001b[0m\n\u001b[1;32m   3026\u001b[0m                 \u001b[0mindexer\u001b[0m \u001b[0;34m=\u001b[0m \u001b[0;34m[\u001b[0m\u001b[0mindexer\u001b[0m\u001b[0;34m]\u001b[0m\u001b[0;34m\u001b[0m\u001b[0;34m\u001b[0m\u001b[0m\n",
      "\u001b[0;32m~/opt/anaconda3/lib/python3.8/site-packages/pandas/core/indexes/base.py\u001b[0m in \u001b[0;36mget_loc\u001b[0;34m(self, key, method, tolerance)\u001b[0m\n\u001b[1;32m   3080\u001b[0m                 \u001b[0;32mreturn\u001b[0m \u001b[0mself\u001b[0m\u001b[0;34m.\u001b[0m\u001b[0m_engine\u001b[0m\u001b[0;34m.\u001b[0m\u001b[0mget_loc\u001b[0m\u001b[0;34m(\u001b[0m\u001b[0mcasted_key\u001b[0m\u001b[0;34m)\u001b[0m\u001b[0;34m\u001b[0m\u001b[0;34m\u001b[0m\u001b[0m\n\u001b[1;32m   3081\u001b[0m             \u001b[0;32mexcept\u001b[0m \u001b[0mKeyError\u001b[0m \u001b[0;32mas\u001b[0m \u001b[0merr\u001b[0m\u001b[0;34m:\u001b[0m\u001b[0;34m\u001b[0m\u001b[0;34m\u001b[0m\u001b[0m\n\u001b[0;32m-> 3082\u001b[0;31m                 \u001b[0;32mraise\u001b[0m \u001b[0mKeyError\u001b[0m\u001b[0;34m(\u001b[0m\u001b[0mkey\u001b[0m\u001b[0;34m)\u001b[0m \u001b[0;32mfrom\u001b[0m \u001b[0merr\u001b[0m\u001b[0;34m\u001b[0m\u001b[0;34m\u001b[0m\u001b[0m\n\u001b[0m\u001b[1;32m   3083\u001b[0m \u001b[0;34m\u001b[0m\u001b[0m\n\u001b[1;32m   3084\u001b[0m         \u001b[0;32mif\u001b[0m \u001b[0mtolerance\u001b[0m \u001b[0;32mis\u001b[0m \u001b[0;32mnot\u001b[0m \u001b[0;32mNone\u001b[0m\u001b[0;34m:\u001b[0m\u001b[0;34m\u001b[0m\u001b[0;34m\u001b[0m\u001b[0m\n",
      "\u001b[0;31mKeyError\u001b[0m: 'ratio'"
     ]
    },
    {
     "data": {
      "image/png": "[encoded data removed]",
      "text/plain": [
       "<Figure size 720x432 with 1 Axes>"
      ]
     },
     "metadata": {
      "needs_background": "light"
     },
     "output_type": "display_data"
    }
   ],
   "source": [
    "plt.subplots(figsize=(10, 6))\n",
    "\n",
    "plt.plot_date(data=p_df2, x='y_m', y='ratio', linestyle='-')\n",
    "\n",
    "plt.title('Ratio of quality products (+500 euro) on total monthly sales 17/18')\n",
    "plt.ylabel('Ratio in %')\n",
    "plt.ylim(0, p_df['ratio'].max()*1.2)\n",
    "sns.despine()\n",
    "plt.show()"
   ]
  },
  {
   "cell_type": "code",
   "execution_count": 301,
   "id": "e8f05fa1-dc38-4a09-a30b-7dd539df3ad4",
   "metadata": {},
   "outputs": [],
   "source": [
    "(\n",
    "orderlines\n",
    "    .merge(orders, how='left', left_on='id_order', right_on='order_id')\n",
    "    .query('state == \"Completed\"')\n",
    "    .assign(price_cat = lambda x: pd.cut(x['unit_price'], [0, 1000, 8500]),\n",
    "            y_m = lambda x: x['date'].dt.to_period('M'))\n",
    "    .groupby(['y_m','price_cat'])\n",
    "    .agg(count = ('id_order','count'))\n",
    "    .reset_index()\n",
    "    .assign(total_count = lambda x: x.groupby('y_m')['count'].transform('sum'))\n",
    "    .assign(ratio = lambda x: x['count'] / x['total_count'],\n",
    "            price_cat = lambda x: x['price_cat'].astype('str'))    \n",
    "    .query('price_cat == \"(1000, 8500]\"')\n",
    "    .to_excel('eniac/filename.xlsx')\n",
    ")"
   ]
  },
  {
   "cell_type": "code",
   "execution_count": 313,
   "id": "32b38476-1cd3-4853-98a3-1eec08f0a25f",
   "metadata": {},
   "outputs": [
    {
     "data": {
      "text/plain": [
       "0    AirPods Apple Bluetooth Headset for iPhone iPa...\n",
       "Name: name, dtype: object"
      ]
     },
     "execution_count": 313,
     "metadata": {},
     "output_type": "execute_result"
    }
   ],
   "source": [
    "(\n",
    "orderlines\n",
    "    .query('sku == \"APP1922\"')\n",
    "    .merge(products, how='left')\n",
    "    ['name']\n",
    "    .head(1)\n",
    ")                \n",
    "    #['unit_price'].describe()\n",
    "## sku – stock keeping unit: a unique identifier for each product\n",
    "## amount: 1610, min: 0, max: 179, mean: 162.41, std: 11.56"
   ]
  },
  {
   "cell_type": "code",
   "execution_count": null,
   "id": "caf9f976-6141-4519-9749-75b10a042704",
   "metadata": {
    "jupyter": {
     "source_hidden": true
    },
    "tags": []
   },
   "outputs": [],
   "source": [
    "tmp1 = (\n",
    "products\n",
    "    .loc[products['name'].str.contains(r'HDD','Apple')]\n",
    "    .sort_values('price', ascending=False)\n",
    ")\n",
    "tmp1 # Monitor 272. Laptop 4, NAS 629"
   ]
  },
  {
   "cell_type": "code",
   "execution_count": null,
   "id": "8a772e67-f973-400e-bdc4-cdaf209b7603",
   "metadata": {
    "jupyter": {
     "source_hidden": true
    },
    "tags": []
   },
   "outputs": [],
   "source": [
    "tmp2.sort_values('total_paid', ascending=False).head(5)"
   ]
  },
  {
   "cell_type": "code",
   "execution_count": 87,
   "id": "948cedb0-3b2b-45d2-a13d-ea4ca2d81b0b",
   "metadata": {
    "jupyter": {
     "source_hidden": true
    },
    "tags": []
   },
   "outputs": [],
   "source": [
    "orders_compl = orders.query('state == \"Completed\"')"
   ]
  },
  {
   "cell_type": "code",
   "execution_count": null,
   "id": "f90ca9d6-40b1-493e-884d-50f964f37cd0",
   "metadata": {
    "jupyter": {
     "source_hidden": true
    },
    "tags": []
   },
   "outputs": [],
   "source": [
    "p_df = (\n",
    "orders_compl\n",
    "    .assign(year = orders['created_date'].dt.strftime('%Y'), \n",
    "           month = orders['created_date'].dt.strftime('%b'))\n",
    "    .groupby(['year','month'])\n",
    "    .agg({'total_paid':'sum'})\n",
    "    .reset_index()\n",
    ")\n",
    "p_df"
   ]
  },
  {
   "cell_type": "code",
   "execution_count": null,
   "id": "914c92a2-11ef-47c0-bc2d-044feadc1434",
   "metadata": {
    "jupyter": {
     "source_hidden": true
    },
    "tags": []
   },
   "outputs": [],
   "source": [
    "months = ['Jan', 'Feb', 'Mar', 'Apr', 'May', 'Jun', \n",
    "          'Jul', 'Aug', 'Sep', 'Oct', 'Nov', 'Dec']\n",
    "plt.subplots(figsize=(12, 8))\n",
    "# sns.boxplot(data=p_df, x='month', y='total_paid', hue='year', order=months)\n",
    "# plt.ylim(0, 800)\n",
    "p = sns.barplot(data=p_df, x='month', y='total_paid', hue='year', order=months)\n",
    "p.axhline(\n",
    "    p_df['total_paid'].mean(), \n",
    "    linestyle='--',\n",
    "    color='gray'\n",
    ")\n",
    "plt.xlabel('Month')\n",
    "plt.ylabel('Total paid')\n",
    "plt.title('Total paid evolution through 2017 and 2018')\n",
    "plt.ticklabel_format(style='plain', axis='y')\n",
    "plt.show()"
   ]
  },
  {
   "cell_type": "code",
   "execution_count": null,
   "id": "36d15408-6560-40f1-89e8-0a6781cab19f",
   "metadata": {
    "jupyter": {
     "source_hidden": true
    },
    "tags": []
   },
   "outputs": [],
   "source": [
    "p_df = (\n",
    "df\n",
    "    .assign(year = orders['date'].dt.strftime('%Y')),\n",
    "            month = orders['date'].dt.strftime('%m'))\n",
    "    .groupby(['year', 'month'])\n",
    "    .agg({'total_paid':'sum'})\n",
    "    .reset_index()\n",
    "    .assign(qlty_perc = lambda x: np.where(x['unit_price_cat'].str.count('quality')==1, x['total_price'], '0'\n",
    "                                           round((1 - x['unit_price'] / x['price'])*100)))\n",
    "            \n",
    "\n",
    "    \n",
    "    products = products.assign(new_decimals = lambda x: np.where(x['price'].str.count('\\.')==0, x['price']+'00', x['price'].str.replace('\\.','', regex=True)))\n",
    "\n",
    "            disc = lambda x: x['total_paid'] - x['total_price'])\n",
    "    .groupby(['year','Month','state', 'week'])\n",
    "    .agg({'id_order':'count', 'total_paid':'sum', 'disc_perc':'mean'})\n",
    "    .reset_index()\n",
    "    .assign(week_n_orders = lambda x: x.groupby(['year','week'])['id_order'].transform('sum'))\n",
    "    .assign(state_perc = lambda x: x['id_order'] / x['week_n_orders'])\n",
    "    .assign(completed_state = lambda x: x['state']=='Completed')\n",
    "   # .query('state == \"Completed\"')\n",
    ")\n",
    "p_df.sample(2)\n"
   ]
  },
  {
   "cell_type": "code",
   "execution_count": 197,
   "id": "5855764b-6252-4699-813f-badc1581f179",
   "metadata": {
    "collapsed": true,
    "jupyter": {
     "outputs_hidden": true,
     "source_hidden": true
    },
    "tags": []
   },
   "outputs": [
    {
     "data": {
      "text/html": [
       "<div>\n",
       "<style scoped>\n",
       "    .dataframe tbody tr th:only-of-type {\n",
       "        vertical-align: middle;\n",
       "    }\n",
       "\n",
       "    .dataframe tbody tr th {\n",
       "        vertical-align: top;\n",
       "    }\n",
       "\n",
       "    .dataframe thead th {\n",
       "        text-align: right;\n",
       "    }\n",
       "</style>\n",
       "<table border=\"1\" class=\"dataframe\">\n",
       "  <thead>\n",
       "    <tr style=\"text-align: right;\">\n",
       "      <th></th>\n",
       "      <th>prod_qty</th>\n",
       "      <th>unit_price</th>\n",
       "      <th>total_price</th>\n",
       "      <th>total_paid</th>\n",
       "      <th>price</th>\n",
       "      <th>max_price_ol</th>\n",
       "      <th>name</th>\n",
       "      <th>desc</th>\n",
       "      <th>date</th>\n",
       "    </tr>\n",
       "  </thead>\n",
       "  <tbody>\n",
       "    <tr>\n",
       "      <th>39575</th>\n",
       "      <td>1</td>\n",
       "      <td>8287.80</td>\n",
       "      <td>8287.80</td>\n",
       "      <td>8287.80</td>\n",
       "      <td>9799.00</td>\n",
       "      <td>NaN</td>\n",
       "      <td>12big LaCie Hard Disk 120TB RAID Thunderbolt 3...</td>\n",
       "      <td>12 120TB hard drive bays with RAID 5 two ports...</td>\n",
       "      <td>2017-11-26 16:02:50</td>\n",
       "    </tr>\n",
       "  </tbody>\n",
       "</table>\n",
       "</div>"
      ],
      "text/plain": [
       "       prod_qty  unit_price  total_price  total_paid   price  max_price_ol  \\\n",
       "39575         1     8287.80      8287.80     8287.80 9799.00           NaN   \n",
       "\n",
       "                                                    name  \\\n",
       "39575  12big LaCie Hard Disk 120TB RAID Thunderbolt 3...   \n",
       "\n",
       "                                                    desc                date  \n",
       "39575  12 120TB hard drive bays with RAID 5 two ports... 2017-11-26 16:02:50  "
      ]
     },
     "execution_count": 197,
     "metadata": {},
     "output_type": "execute_result"
    }
   ],
   "source": [
    "tmp2.query('unit_price >= 1000').sort_values('unit_price', ascending=False).head(1)"
   ]
  },
  {
   "cell_type": "code",
   "execution_count": 199,
   "id": "7319027f-edad-4ba3-be21-9d14de18f6d5",
   "metadata": {
    "collapsed": true,
    "jupyter": {
     "outputs_hidden": true,
     "source_hidden": true
    },
    "tags": []
   },
   "outputs": [
    {
     "data": {
      "text/plain": [
       "count   62103.00\n",
       "mean      239.90\n",
       "std       501.95\n",
       "min         0.00\n",
       "25%        28.99\n",
       "50%        69.99\n",
       "75%       185.79\n",
       "max      8287.80\n",
       "Name: unit_price, dtype: float64"
      ]
     },
     "execution_count": 199,
     "metadata": {},
     "output_type": "execute_result"
    }
   ],
   "source": [
    "tmp2['unit_price'].describe()"
   ]
  },
  {
   "cell_type": "code",
   "execution_count": null,
   "id": "2c5fe811-b0ac-4cc0-ab8b-4029d24d269f",
   "metadata": {
    "jupyter": {
     "source_hidden": true
    },
    "tags": []
   },
   "outputs": [],
   "source": [
    "tmp2['unit_price'].value_counts()"
   ]
  },
  {
   "cell_type": "code",
   "execution_count": null,
   "id": "5cf5f162-7144-46a0-830d-78f32a8def52",
   "metadata": {
    "jupyter": {
     "source_hidden": true
    },
    "tags": []
   },
   "outputs": [],
   "source": [
    "tmp2.hist(figsize=(17,12))"
   ]
  }
 ],
 "metadata": {
  "kernelspec": {
   "display_name": "Python 3",
   "language": "python",
   "name": "python3"
  },
  "language_info": {
   "codemirror_mode": {
    "name": "ipython",
    "version": 3
   },
   "file_extension": ".py",
   "mimetype": "text/x-python",
   "name": "python",
   "nbconvert_exporter": "python",
   "pygments_lexer": "ipython3",
   "version": "3.8.8"
  }
 },
 "nbformat": 4,
 "nbformat_minor": 5
}
